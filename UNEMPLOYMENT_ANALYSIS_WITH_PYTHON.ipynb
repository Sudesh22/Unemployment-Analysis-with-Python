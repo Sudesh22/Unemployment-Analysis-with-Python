{
  "nbformat": 4,
  "nbformat_minor": 0,
  "metadata": {
    "colab": {
      "provenance": []
    },
    "kernelspec": {
      "name": "python3",
      "display_name": "Python 3"
    },
    "language_info": {
      "name": "python"
    }
  },
  "cells": [
    {
      "cell_type": "code",
      "execution_count": null,
      "metadata": {
        "id": "N_fHVNvcuObh",
        "colab": {
          "base_uri": "https://localhost:8080/"
        },
        "outputId": "14db8632-2e6a-4f27-ea11-c09221aea8ca"
      },
      "outputs": [
        {
          "output_type": "stream",
          "name": "stdout",
          "text": [
            "Requirement already satisfied: plotly in /usr/local/lib/python3.10/dist-packages (5.16.1)\n",
            "Requirement already satisfied: tenacity>=6.2.0 in /usr/local/lib/python3.10/dist-packages (from plotly) (8.2.3)\n",
            "Requirement already satisfied: packaging in /usr/local/lib/python3.10/dist-packages (from plotly) (23.1)\n"
          ]
        }
      ],
      "source": [
        "!pip install --upgrade plotly\n",
        "\n",
        "import pandas as pd\n",
        "import numpy as np\n",
        "import matplotlib.pyplot as plt\n",
        "import seaborn as sns\n",
        "import plotly.express as px"
      ]
    },
    {
      "cell_type": "code",
      "source": [
        "df = pd.read_csv(\"/content/Unemployment in India.csv\")"
      ],
      "metadata": {
        "id": "TAxKUb0GulDQ"
      },
      "execution_count": null,
      "outputs": []
    },
    {
      "cell_type": "code",
      "source": [
        "df.shape"
      ],
      "metadata": {
        "colab": {
          "base_uri": "https://localhost:8080/"
        },
        "id": "mHaJG6kpu5lJ",
        "outputId": "ad21d51d-2fa6-47f3-dbad-eb3842c9bf64"
      },
      "execution_count": null,
      "outputs": [
        {
          "output_type": "execute_result",
          "data": {
            "text/plain": [
              "(768, 7)"
            ]
          },
          "metadata": {},
          "execution_count": 3
        }
      ]
    },
    {
      "cell_type": "code",
      "source": [
        "print(df.isnull().sum())"
      ],
      "metadata": {
        "colab": {
          "base_uri": "https://localhost:8080/"
        },
        "id": "WHYixxBEuuGe",
        "outputId": "a3d8c2ab-a2c6-48fc-ec6a-b333db5e91b3"
      },
      "execution_count": null,
      "outputs": [
        {
          "output_type": "stream",
          "name": "stdout",
          "text": [
            "Region                                      28\n",
            " Date                                       28\n",
            " Frequency                                  28\n",
            " Estimated Unemployment Rate (%)            28\n",
            " Estimated Employed                         28\n",
            " Estimated Labour Participation Rate (%)    28\n",
            "Area                                        28\n",
            "dtype: int64\n"
          ]
        }
      ]
    },
    {
      "cell_type": "code",
      "source": [
        "df = df.dropna()"
      ],
      "metadata": {
        "id": "OnaxKGgmu1Ag"
      },
      "execution_count": null,
      "outputs": []
    },
    {
      "cell_type": "code",
      "source": [
        "df.shape"
      ],
      "metadata": {
        "colab": {
          "base_uri": "https://localhost:8080/"
        },
        "id": "5lk9y72pHElb",
        "outputId": "1ea8e580-809f-4802-ef29-9b0581080b5c"
      },
      "execution_count": null,
      "outputs": [
        {
          "output_type": "execute_result",
          "data": {
            "text/plain": [
              "(740, 7)"
            ]
          },
          "metadata": {},
          "execution_count": 6
        }
      ]
    },
    {
      "cell_type": "code",
      "source": [
        "print(df.head())"
      ],
      "metadata": {
        "colab": {
          "base_uri": "https://localhost:8080/"
        },
        "id": "R8sFPWdGum8L",
        "outputId": "c4a9715c-66d0-4623-fd90-605fdc844ec8"
      },
      "execution_count": null,
      "outputs": [
        {
          "output_type": "stream",
          "name": "stdout",
          "text": [
            "           Region         Date  Frequency   Estimated Unemployment Rate (%)  \\\n",
            "0  Andhra Pradesh   31-05-2019    Monthly                              3.65   \n",
            "1  Andhra Pradesh   30-06-2019    Monthly                              3.05   \n",
            "2  Andhra Pradesh   31-07-2019    Monthly                              3.75   \n",
            "3  Andhra Pradesh   31-08-2019    Monthly                              3.32   \n",
            "4  Andhra Pradesh   30-09-2019    Monthly                              5.17   \n",
            "\n",
            "    Estimated Employed   Estimated Labour Participation Rate (%)   Area  \n",
            "0           11999139.0                                     43.24  Rural  \n",
            "1           11755881.0                                     42.05  Rural  \n",
            "2           12086707.0                                     43.50  Rural  \n",
            "3           12285693.0                                     43.97  Rural  \n",
            "4           12256762.0                                     44.68  Rural  \n"
          ]
        }
      ]
    },
    {
      "cell_type": "code",
      "source": [
        "df.rename(columns = {'Region':'States'}, inplace = True)"
      ],
      "metadata": {
        "id": "_CbNYbke3mLN",
        "colab": {
          "base_uri": "https://localhost:8080/"
        },
        "outputId": "13c9232c-5ac2-4ca1-a006-778a70642d29"
      },
      "execution_count": null,
      "outputs": [
        {
          "output_type": "stream",
          "name": "stderr",
          "text": [
            "<ipython-input-8-33c64e9f6102>:1: SettingWithCopyWarning: \n",
            "A value is trying to be set on a copy of a slice from a DataFrame\n",
            "\n",
            "See the caveats in the documentation: https://pandas.pydata.org/pandas-docs/stable/user_guide/indexing.html#returning-a-view-versus-a-copy\n",
            "  df.rename(columns = {'Region':'States'}, inplace = True)\n"
          ]
        }
      ]
    },
    {
      "cell_type": "code",
      "source": [
        "df.columns.values"
      ],
      "metadata": {
        "colab": {
          "base_uri": "https://localhost:8080/"
        },
        "id": "wpvMU-Sl2TnH",
        "outputId": "65353114-b477-4b89-e3d7-53aa16981fc3"
      },
      "execution_count": null,
      "outputs": [
        {
          "output_type": "execute_result",
          "data": {
            "text/plain": [
              "array(['States', ' Date', ' Frequency',\n",
              "       ' Estimated Unemployment Rate (%)', ' Estimated Employed',\n",
              "       ' Estimated Labour Participation Rate (%)', 'Area'], dtype=object)"
            ]
          },
          "metadata": {},
          "execution_count": 9
        }
      ]
    },
    {
      "cell_type": "code",
      "source": [
        "print(df['States'].unique())"
      ],
      "metadata": {
        "colab": {
          "base_uri": "https://localhost:8080/"
        },
        "id": "NJr50EkH0sow",
        "outputId": "3d23712b-4651-4e5e-d262-f1ea42e85659"
      },
      "execution_count": null,
      "outputs": [
        {
          "output_type": "stream",
          "name": "stdout",
          "text": [
            "['Andhra Pradesh' 'Assam' 'Bihar' 'Chhattisgarh' 'Delhi' 'Goa' 'Gujarat'\n",
            " 'Haryana' 'Himachal Pradesh' 'Jammu & Kashmir' 'Jharkhand' 'Karnataka'\n",
            " 'Kerala' 'Madhya Pradesh' 'Maharashtra' 'Meghalaya' 'Odisha' 'Puducherry'\n",
            " 'Punjab' 'Rajasthan' 'Sikkim' 'Tamil Nadu' 'Telangana' 'Tripura'\n",
            " 'Uttar Pradesh' 'Uttarakhand' 'West Bengal' 'Chandigarh']\n"
          ]
        }
      ]
    },
    {
      "cell_type": "code",
      "source": [
        "Region = []\n",
        "\n",
        "for row in df['States']:\n",
        "  if row in (\"Uttar Pradesh\", \"Uttarakhand\", \"Punjab\", \"Jammu & Kashmir\", \"Rajasthan\", \"Himachal Pradesh\", \"Delhi\", \"Haryana\", \"Chandigarh\"):\n",
        "    Region.append('North')\n",
        "  elif row in (\"Gujarat\", \"Madhya Pradesh\", \"Chhattisgarh\", \"Maharashtra\", \"Goa\"):\n",
        "    Region.append('West')\n",
        "  elif row in (\"Tripura\", \"Sikkim\", \"Assam\", \"Meghalaya\"):\n",
        "    Region.append('Northeast')\n",
        "  elif row in (\"Jharkhand\", \"Bihar\", \"West Bengal\", \"Odisha\"):\n",
        "    Region.append('East')\n",
        "  elif row in (\"Puducherry\", \"Tamil Nadu\", \"Kerala\", \"Andhra Pradesh\", \"Karnataka\", \"Telangana\"):\n",
        "    Region.append('South')\n",
        "  print(row)\n",
        "\n",
        "print(Region)\n",
        "\n",
        "df.insert(1,\"Region\", Region)"
      ],
      "metadata": {
        "colab": {
          "base_uri": "https://localhost:8080/"
        },
        "id": "VLZP1Vk62wU1",
        "outputId": "57975535-4869-43ed-b618-31632ea4c423"
      },
      "execution_count": null,
      "outputs": [
        {
          "output_type": "stream",
          "name": "stdout",
          "text": [
            "Andhra Pradesh\n",
            "Andhra Pradesh\n",
            "Andhra Pradesh\n",
            "Andhra Pradesh\n",
            "Andhra Pradesh\n",
            "Andhra Pradesh\n",
            "Andhra Pradesh\n",
            "Andhra Pradesh\n",
            "Andhra Pradesh\n",
            "Andhra Pradesh\n",
            "Andhra Pradesh\n",
            "Andhra Pradesh\n",
            "Andhra Pradesh\n",
            "Andhra Pradesh\n",
            "Assam\n",
            "Assam\n",
            "Assam\n",
            "Assam\n",
            "Assam\n",
            "Assam\n",
            "Assam\n",
            "Assam\n",
            "Assam\n",
            "Assam\n",
            "Assam\n",
            "Assam\n",
            "Bihar\n",
            "Bihar\n",
            "Bihar\n",
            "Bihar\n",
            "Bihar\n",
            "Bihar\n",
            "Bihar\n",
            "Bihar\n",
            "Bihar\n",
            "Bihar\n",
            "Bihar\n",
            "Bihar\n",
            "Bihar\n",
            "Bihar\n",
            "Chhattisgarh\n",
            "Chhattisgarh\n",
            "Chhattisgarh\n",
            "Chhattisgarh\n",
            "Chhattisgarh\n",
            "Chhattisgarh\n",
            "Chhattisgarh\n",
            "Chhattisgarh\n",
            "Chhattisgarh\n",
            "Chhattisgarh\n",
            "Chhattisgarh\n",
            "Chhattisgarh\n",
            "Chhattisgarh\n",
            "Chhattisgarh\n",
            "Delhi\n",
            "Delhi\n",
            "Delhi\n",
            "Delhi\n",
            "Delhi\n",
            "Delhi\n",
            "Delhi\n",
            "Delhi\n",
            "Delhi\n",
            "Delhi\n",
            "Delhi\n",
            "Delhi\n",
            "Delhi\n",
            "Delhi\n",
            "Goa\n",
            "Goa\n",
            "Goa\n",
            "Goa\n",
            "Goa\n",
            "Goa\n",
            "Goa\n",
            "Goa\n",
            "Goa\n",
            "Goa\n",
            "Goa\n",
            "Goa\n",
            "Gujarat\n",
            "Gujarat\n",
            "Gujarat\n",
            "Gujarat\n",
            "Gujarat\n",
            "Gujarat\n",
            "Gujarat\n",
            "Gujarat\n",
            "Gujarat\n",
            "Gujarat\n",
            "Gujarat\n",
            "Gujarat\n",
            "Gujarat\n",
            "Gujarat\n",
            "Haryana\n",
            "Haryana\n",
            "Haryana\n",
            "Haryana\n",
            "Haryana\n",
            "Haryana\n",
            "Haryana\n",
            "Haryana\n",
            "Haryana\n",
            "Haryana\n",
            "Haryana\n",
            "Haryana\n",
            "Haryana\n",
            "Haryana\n",
            "Himachal Pradesh\n",
            "Himachal Pradesh\n",
            "Himachal Pradesh\n",
            "Himachal Pradesh\n",
            "Himachal Pradesh\n",
            "Himachal Pradesh\n",
            "Himachal Pradesh\n",
            "Himachal Pradesh\n",
            "Himachal Pradesh\n",
            "Himachal Pradesh\n",
            "Himachal Pradesh\n",
            "Himachal Pradesh\n",
            "Himachal Pradesh\n",
            "Himachal Pradesh\n",
            "Jammu & Kashmir\n",
            "Jammu & Kashmir\n",
            "Jammu & Kashmir\n",
            "Jammu & Kashmir\n",
            "Jammu & Kashmir\n",
            "Jammu & Kashmir\n",
            "Jammu & Kashmir\n",
            "Jammu & Kashmir\n",
            "Jammu & Kashmir\n",
            "Jammu & Kashmir\n",
            "Jammu & Kashmir\n",
            "Jharkhand\n",
            "Jharkhand\n",
            "Jharkhand\n",
            "Jharkhand\n",
            "Jharkhand\n",
            "Jharkhand\n",
            "Jharkhand\n",
            "Jharkhand\n",
            "Jharkhand\n",
            "Jharkhand\n",
            "Jharkhand\n",
            "Jharkhand\n",
            "Jharkhand\n",
            "Jharkhand\n",
            "Karnataka\n",
            "Karnataka\n",
            "Karnataka\n",
            "Karnataka\n",
            "Karnataka\n",
            "Karnataka\n",
            "Karnataka\n",
            "Karnataka\n",
            "Karnataka\n",
            "Karnataka\n",
            "Karnataka\n",
            "Karnataka\n",
            "Karnataka\n",
            "Karnataka\n",
            "Kerala\n",
            "Kerala\n",
            "Kerala\n",
            "Kerala\n",
            "Kerala\n",
            "Kerala\n",
            "Kerala\n",
            "Kerala\n",
            "Kerala\n",
            "Kerala\n",
            "Kerala\n",
            "Kerala\n",
            "Kerala\n",
            "Kerala\n",
            "Madhya Pradesh\n",
            "Madhya Pradesh\n",
            "Madhya Pradesh\n",
            "Madhya Pradesh\n",
            "Madhya Pradesh\n",
            "Madhya Pradesh\n",
            "Madhya Pradesh\n",
            "Madhya Pradesh\n",
            "Madhya Pradesh\n",
            "Madhya Pradesh\n",
            "Madhya Pradesh\n",
            "Madhya Pradesh\n",
            "Madhya Pradesh\n",
            "Madhya Pradesh\n",
            "Maharashtra\n",
            "Maharashtra\n",
            "Maharashtra\n",
            "Maharashtra\n",
            "Maharashtra\n",
            "Maharashtra\n",
            "Maharashtra\n",
            "Maharashtra\n",
            "Maharashtra\n",
            "Maharashtra\n",
            "Maharashtra\n",
            "Maharashtra\n",
            "Maharashtra\n",
            "Maharashtra\n",
            "Meghalaya\n",
            "Meghalaya\n",
            "Meghalaya\n",
            "Meghalaya\n",
            "Meghalaya\n",
            "Meghalaya\n",
            "Meghalaya\n",
            "Meghalaya\n",
            "Meghalaya\n",
            "Meghalaya\n",
            "Meghalaya\n",
            "Meghalaya\n",
            "Meghalaya\n",
            "Meghalaya\n",
            "Odisha\n",
            "Odisha\n",
            "Odisha\n",
            "Odisha\n",
            "Odisha\n",
            "Odisha\n",
            "Odisha\n",
            "Odisha\n",
            "Odisha\n",
            "Odisha\n",
            "Odisha\n",
            "Odisha\n",
            "Odisha\n",
            "Odisha\n",
            "Puducherry\n",
            "Puducherry\n",
            "Puducherry\n",
            "Puducherry\n",
            "Puducherry\n",
            "Puducherry\n",
            "Puducherry\n",
            "Puducherry\n",
            "Puducherry\n",
            "Puducherry\n",
            "Puducherry\n",
            "Puducherry\n",
            "Punjab\n",
            "Punjab\n",
            "Punjab\n",
            "Punjab\n",
            "Punjab\n",
            "Punjab\n",
            "Punjab\n",
            "Punjab\n",
            "Punjab\n",
            "Punjab\n",
            "Punjab\n",
            "Punjab\n",
            "Punjab\n",
            "Punjab\n",
            "Rajasthan\n",
            "Rajasthan\n",
            "Rajasthan\n",
            "Rajasthan\n",
            "Rajasthan\n",
            "Rajasthan\n",
            "Rajasthan\n",
            "Rajasthan\n",
            "Rajasthan\n",
            "Rajasthan\n",
            "Rajasthan\n",
            "Rajasthan\n",
            "Rajasthan\n",
            "Rajasthan\n",
            "Sikkim\n",
            "Sikkim\n",
            "Sikkim\n",
            "Sikkim\n",
            "Sikkim\n",
            "Tamil Nadu\n",
            "Tamil Nadu\n",
            "Tamil Nadu\n",
            "Tamil Nadu\n",
            "Tamil Nadu\n",
            "Tamil Nadu\n",
            "Tamil Nadu\n",
            "Tamil Nadu\n",
            "Tamil Nadu\n",
            "Tamil Nadu\n",
            "Tamil Nadu\n",
            "Tamil Nadu\n",
            "Tamil Nadu\n",
            "Tamil Nadu\n",
            "Telangana\n",
            "Telangana\n",
            "Telangana\n",
            "Telangana\n",
            "Telangana\n",
            "Telangana\n",
            "Telangana\n",
            "Telangana\n",
            "Telangana\n",
            "Telangana\n",
            "Telangana\n",
            "Telangana\n",
            "Telangana\n",
            "Telangana\n",
            "Tripura\n",
            "Tripura\n",
            "Tripura\n",
            "Tripura\n",
            "Tripura\n",
            "Tripura\n",
            "Tripura\n",
            "Tripura\n",
            "Tripura\n",
            "Tripura\n",
            "Tripura\n",
            "Tripura\n",
            "Tripura\n",
            "Tripura\n",
            "Uttar Pradesh\n",
            "Uttar Pradesh\n",
            "Uttar Pradesh\n",
            "Uttar Pradesh\n",
            "Uttar Pradesh\n",
            "Uttar Pradesh\n",
            "Uttar Pradesh\n",
            "Uttar Pradesh\n",
            "Uttar Pradesh\n",
            "Uttar Pradesh\n",
            "Uttar Pradesh\n",
            "Uttar Pradesh\n",
            "Uttar Pradesh\n",
            "Uttar Pradesh\n",
            "Uttarakhand\n",
            "Uttarakhand\n",
            "Uttarakhand\n",
            "Uttarakhand\n",
            "Uttarakhand\n",
            "Uttarakhand\n",
            "Uttarakhand\n",
            "Uttarakhand\n",
            "Uttarakhand\n",
            "Uttarakhand\n",
            "Uttarakhand\n",
            "Uttarakhand\n",
            "Uttarakhand\n",
            "West Bengal\n",
            "West Bengal\n",
            "West Bengal\n",
            "West Bengal\n",
            "West Bengal\n",
            "West Bengal\n",
            "West Bengal\n",
            "West Bengal\n",
            "West Bengal\n",
            "West Bengal\n",
            "West Bengal\n",
            "West Bengal\n",
            "West Bengal\n",
            "West Bengal\n",
            "Andhra Pradesh\n",
            "Andhra Pradesh\n",
            "Andhra Pradesh\n",
            "Andhra Pradesh\n",
            "Andhra Pradesh\n",
            "Andhra Pradesh\n",
            "Andhra Pradesh\n",
            "Andhra Pradesh\n",
            "Andhra Pradesh\n",
            "Andhra Pradesh\n",
            "Andhra Pradesh\n",
            "Andhra Pradesh\n",
            "Andhra Pradesh\n",
            "Andhra Pradesh\n",
            "Assam\n",
            "Assam\n",
            "Assam\n",
            "Assam\n",
            "Assam\n",
            "Assam\n",
            "Assam\n",
            "Assam\n",
            "Assam\n",
            "Assam\n",
            "Assam\n",
            "Assam\n",
            "Assam\n",
            "Assam\n",
            "Bihar\n",
            "Bihar\n",
            "Bihar\n",
            "Bihar\n",
            "Bihar\n",
            "Bihar\n",
            "Bihar\n",
            "Bihar\n",
            "Bihar\n",
            "Bihar\n",
            "Bihar\n",
            "Bihar\n",
            "Bihar\n",
            "Bihar\n",
            "Chandigarh\n",
            "Chandigarh\n",
            "Chandigarh\n",
            "Chandigarh\n",
            "Chandigarh\n",
            "Chandigarh\n",
            "Chandigarh\n",
            "Chandigarh\n",
            "Chandigarh\n",
            "Chandigarh\n",
            "Chandigarh\n",
            "Chandigarh\n",
            "Chhattisgarh\n",
            "Chhattisgarh\n",
            "Chhattisgarh\n",
            "Chhattisgarh\n",
            "Chhattisgarh\n",
            "Chhattisgarh\n",
            "Chhattisgarh\n",
            "Chhattisgarh\n",
            "Chhattisgarh\n",
            "Chhattisgarh\n",
            "Chhattisgarh\n",
            "Chhattisgarh\n",
            "Chhattisgarh\n",
            "Chhattisgarh\n",
            "Delhi\n",
            "Delhi\n",
            "Delhi\n",
            "Delhi\n",
            "Delhi\n",
            "Delhi\n",
            "Delhi\n",
            "Delhi\n",
            "Delhi\n",
            "Delhi\n",
            "Delhi\n",
            "Delhi\n",
            "Delhi\n",
            "Delhi\n",
            "Goa\n",
            "Goa\n",
            "Goa\n",
            "Goa\n",
            "Goa\n",
            "Goa\n",
            "Goa\n",
            "Goa\n",
            "Goa\n",
            "Goa\n",
            "Goa\n",
            "Goa\n",
            "Gujarat\n",
            "Gujarat\n",
            "Gujarat\n",
            "Gujarat\n",
            "Gujarat\n",
            "Gujarat\n",
            "Gujarat\n",
            "Gujarat\n",
            "Gujarat\n",
            "Gujarat\n",
            "Gujarat\n",
            "Gujarat\n",
            "Gujarat\n",
            "Gujarat\n",
            "Haryana\n",
            "Haryana\n",
            "Haryana\n",
            "Haryana\n",
            "Haryana\n",
            "Haryana\n",
            "Haryana\n",
            "Haryana\n",
            "Haryana\n",
            "Haryana\n",
            "Haryana\n",
            "Haryana\n",
            "Haryana\n",
            "Haryana\n",
            "Himachal Pradesh\n",
            "Himachal Pradesh\n",
            "Himachal Pradesh\n",
            "Himachal Pradesh\n",
            "Himachal Pradesh\n",
            "Himachal Pradesh\n",
            "Himachal Pradesh\n",
            "Himachal Pradesh\n",
            "Himachal Pradesh\n",
            "Himachal Pradesh\n",
            "Himachal Pradesh\n",
            "Himachal Pradesh\n",
            "Himachal Pradesh\n",
            "Himachal Pradesh\n",
            "Jammu & Kashmir\n",
            "Jammu & Kashmir\n",
            "Jammu & Kashmir\n",
            "Jammu & Kashmir\n",
            "Jammu & Kashmir\n",
            "Jammu & Kashmir\n",
            "Jammu & Kashmir\n",
            "Jammu & Kashmir\n",
            "Jammu & Kashmir\n",
            "Jammu & Kashmir\n",
            "Jharkhand\n",
            "Jharkhand\n",
            "Jharkhand\n",
            "Jharkhand\n",
            "Jharkhand\n",
            "Jharkhand\n",
            "Jharkhand\n",
            "Jharkhand\n",
            "Jharkhand\n",
            "Jharkhand\n",
            "Jharkhand\n",
            "Jharkhand\n",
            "Jharkhand\n",
            "Jharkhand\n",
            "Karnataka\n",
            "Karnataka\n",
            "Karnataka\n",
            "Karnataka\n",
            "Karnataka\n",
            "Karnataka\n",
            "Karnataka\n",
            "Karnataka\n",
            "Karnataka\n",
            "Karnataka\n",
            "Karnataka\n",
            "Karnataka\n",
            "Karnataka\n",
            "Karnataka\n",
            "Kerala\n",
            "Kerala\n",
            "Kerala\n",
            "Kerala\n",
            "Kerala\n",
            "Kerala\n",
            "Kerala\n",
            "Kerala\n",
            "Kerala\n",
            "Kerala\n",
            "Kerala\n",
            "Kerala\n",
            "Kerala\n",
            "Kerala\n",
            "Madhya Pradesh\n",
            "Madhya Pradesh\n",
            "Madhya Pradesh\n",
            "Madhya Pradesh\n",
            "Madhya Pradesh\n",
            "Madhya Pradesh\n",
            "Madhya Pradesh\n",
            "Madhya Pradesh\n",
            "Madhya Pradesh\n",
            "Madhya Pradesh\n",
            "Madhya Pradesh\n",
            "Madhya Pradesh\n",
            "Madhya Pradesh\n",
            "Madhya Pradesh\n",
            "Maharashtra\n",
            "Maharashtra\n",
            "Maharashtra\n",
            "Maharashtra\n",
            "Maharashtra\n",
            "Maharashtra\n",
            "Maharashtra\n",
            "Maharashtra\n",
            "Maharashtra\n",
            "Maharashtra\n",
            "Maharashtra\n",
            "Maharashtra\n",
            "Maharashtra\n",
            "Maharashtra\n",
            "Meghalaya\n",
            "Meghalaya\n",
            "Meghalaya\n",
            "Meghalaya\n",
            "Meghalaya\n",
            "Meghalaya\n",
            "Meghalaya\n",
            "Meghalaya\n",
            "Meghalaya\n",
            "Meghalaya\n",
            "Meghalaya\n",
            "Meghalaya\n",
            "Meghalaya\n",
            "Odisha\n",
            "Odisha\n",
            "Odisha\n",
            "Odisha\n",
            "Odisha\n",
            "Odisha\n",
            "Odisha\n",
            "Odisha\n",
            "Odisha\n",
            "Odisha\n",
            "Odisha\n",
            "Odisha\n",
            "Odisha\n",
            "Odisha\n",
            "Puducherry\n",
            "Puducherry\n",
            "Puducherry\n",
            "Puducherry\n",
            "Puducherry\n",
            "Puducherry\n",
            "Puducherry\n",
            "Puducherry\n",
            "Puducherry\n",
            "Puducherry\n",
            "Puducherry\n",
            "Puducherry\n",
            "Puducherry\n",
            "Puducherry\n",
            "Punjab\n",
            "Punjab\n",
            "Punjab\n",
            "Punjab\n",
            "Punjab\n",
            "Punjab\n",
            "Punjab\n",
            "Punjab\n",
            "Punjab\n",
            "Punjab\n",
            "Punjab\n",
            "Punjab\n",
            "Punjab\n",
            "Punjab\n",
            "Rajasthan\n",
            "Rajasthan\n",
            "Rajasthan\n",
            "Rajasthan\n",
            "Rajasthan\n",
            "Rajasthan\n",
            "Rajasthan\n",
            "Rajasthan\n",
            "Rajasthan\n",
            "Rajasthan\n",
            "Rajasthan\n",
            "Rajasthan\n",
            "Rajasthan\n",
            "Rajasthan\n",
            "Sikkim\n",
            "Sikkim\n",
            "Sikkim\n",
            "Sikkim\n",
            "Sikkim\n",
            "Sikkim\n",
            "Sikkim\n",
            "Sikkim\n",
            "Sikkim\n",
            "Sikkim\n",
            "Sikkim\n",
            "Sikkim\n",
            "Tamil Nadu\n",
            "Tamil Nadu\n",
            "Tamil Nadu\n",
            "Tamil Nadu\n",
            "Tamil Nadu\n",
            "Tamil Nadu\n",
            "Tamil Nadu\n",
            "Tamil Nadu\n",
            "Tamil Nadu\n",
            "Tamil Nadu\n",
            "Tamil Nadu\n",
            "Tamil Nadu\n",
            "Tamil Nadu\n",
            "Tamil Nadu\n",
            "Telangana\n",
            "Telangana\n",
            "Telangana\n",
            "Telangana\n",
            "Telangana\n",
            "Telangana\n",
            "Telangana\n",
            "Telangana\n",
            "Telangana\n",
            "Telangana\n",
            "Telangana\n",
            "Telangana\n",
            "Telangana\n",
            "Telangana\n",
            "Tripura\n",
            "Tripura\n",
            "Tripura\n",
            "Tripura\n",
            "Tripura\n",
            "Tripura\n",
            "Tripura\n",
            "Tripura\n",
            "Tripura\n",
            "Tripura\n",
            "Tripura\n",
            "Tripura\n",
            "Tripura\n",
            "Tripura\n",
            "Uttar Pradesh\n",
            "Uttar Pradesh\n",
            "Uttar Pradesh\n",
            "Uttar Pradesh\n",
            "Uttar Pradesh\n",
            "Uttar Pradesh\n",
            "Uttar Pradesh\n",
            "Uttar Pradesh\n",
            "Uttar Pradesh\n",
            "Uttar Pradesh\n",
            "Uttar Pradesh\n",
            "Uttar Pradesh\n",
            "Uttar Pradesh\n",
            "Uttar Pradesh\n",
            "Uttarakhand\n",
            "Uttarakhand\n",
            "Uttarakhand\n",
            "Uttarakhand\n",
            "Uttarakhand\n",
            "Uttarakhand\n",
            "Uttarakhand\n",
            "Uttarakhand\n",
            "Uttarakhand\n",
            "Uttarakhand\n",
            "Uttarakhand\n",
            "Uttarakhand\n",
            "Uttarakhand\n",
            "Uttarakhand\n",
            "West Bengal\n",
            "West Bengal\n",
            "West Bengal\n",
            "West Bengal\n",
            "West Bengal\n",
            "West Bengal\n",
            "West Bengal\n",
            "West Bengal\n",
            "West Bengal\n",
            "West Bengal\n",
            "West Bengal\n",
            "West Bengal\n",
            "West Bengal\n",
            "West Bengal\n",
            "['South', 'South', 'South', 'South', 'South', 'South', 'South', 'South', 'South', 'South', 'South', 'South', 'South', 'South', 'Northeast', 'Northeast', 'Northeast', 'Northeast', 'Northeast', 'Northeast', 'Northeast', 'Northeast', 'Northeast', 'Northeast', 'Northeast', 'Northeast', 'East', 'East', 'East', 'East', 'East', 'East', 'East', 'East', 'East', 'East', 'East', 'East', 'East', 'East', 'West', 'West', 'West', 'West', 'West', 'West', 'West', 'West', 'West', 'West', 'West', 'West', 'West', 'West', 'North', 'North', 'North', 'North', 'North', 'North', 'North', 'North', 'North', 'North', 'North', 'North', 'North', 'North', 'West', 'West', 'West', 'West', 'West', 'West', 'West', 'West', 'West', 'West', 'West', 'West', 'West', 'West', 'West', 'West', 'West', 'West', 'West', 'West', 'West', 'West', 'West', 'West', 'West', 'West', 'North', 'North', 'North', 'North', 'North', 'North', 'North', 'North', 'North', 'North', 'North', 'North', 'North', 'North', 'North', 'North', 'North', 'North', 'North', 'North', 'North', 'North', 'North', 'North', 'North', 'North', 'North', 'North', 'North', 'North', 'North', 'North', 'North', 'North', 'North', 'North', 'North', 'North', 'North', 'East', 'East', 'East', 'East', 'East', 'East', 'East', 'East', 'East', 'East', 'East', 'East', 'East', 'East', 'South', 'South', 'South', 'South', 'South', 'South', 'South', 'South', 'South', 'South', 'South', 'South', 'South', 'South', 'South', 'South', 'South', 'South', 'South', 'South', 'South', 'South', 'South', 'South', 'South', 'South', 'South', 'South', 'West', 'West', 'West', 'West', 'West', 'West', 'West', 'West', 'West', 'West', 'West', 'West', 'West', 'West', 'West', 'West', 'West', 'West', 'West', 'West', 'West', 'West', 'West', 'West', 'West', 'West', 'West', 'West', 'Northeast', 'Northeast', 'Northeast', 'Northeast', 'Northeast', 'Northeast', 'Northeast', 'Northeast', 'Northeast', 'Northeast', 'Northeast', 'Northeast', 'Northeast', 'Northeast', 'East', 'East', 'East', 'East', 'East', 'East', 'East', 'East', 'East', 'East', 'East', 'East', 'East', 'East', 'South', 'South', 'South', 'South', 'South', 'South', 'South', 'South', 'South', 'South', 'South', 'South', 'North', 'North', 'North', 'North', 'North', 'North', 'North', 'North', 'North', 'North', 'North', 'North', 'North', 'North', 'North', 'North', 'North', 'North', 'North', 'North', 'North', 'North', 'North', 'North', 'North', 'North', 'North', 'North', 'Northeast', 'Northeast', 'Northeast', 'Northeast', 'Northeast', 'South', 'South', 'South', 'South', 'South', 'South', 'South', 'South', 'South', 'South', 'South', 'South', 'South', 'South', 'South', 'South', 'South', 'South', 'South', 'South', 'South', 'South', 'South', 'South', 'South', 'South', 'South', 'South', 'Northeast', 'Northeast', 'Northeast', 'Northeast', 'Northeast', 'Northeast', 'Northeast', 'Northeast', 'Northeast', 'Northeast', 'Northeast', 'Northeast', 'Northeast', 'Northeast', 'North', 'North', 'North', 'North', 'North', 'North', 'North', 'North', 'North', 'North', 'North', 'North', 'North', 'North', 'North', 'North', 'North', 'North', 'North', 'North', 'North', 'North', 'North', 'North', 'North', 'North', 'North', 'East', 'East', 'East', 'East', 'East', 'East', 'East', 'East', 'East', 'East', 'East', 'East', 'East', 'East', 'South', 'South', 'South', 'South', 'South', 'South', 'South', 'South', 'South', 'South', 'South', 'South', 'South', 'South', 'Northeast', 'Northeast', 'Northeast', 'Northeast', 'Northeast', 'Northeast', 'Northeast', 'Northeast', 'Northeast', 'Northeast', 'Northeast', 'Northeast', 'Northeast', 'Northeast', 'East', 'East', 'East', 'East', 'East', 'East', 'East', 'East', 'East', 'East', 'East', 'East', 'East', 'East', 'North', 'North', 'North', 'North', 'North', 'North', 'North', 'North', 'North', 'North', 'North', 'North', 'West', 'West', 'West', 'West', 'West', 'West', 'West', 'West', 'West', 'West', 'West', 'West', 'West', 'West', 'North', 'North', 'North', 'North', 'North', 'North', 'North', 'North', 'North', 'North', 'North', 'North', 'North', 'North', 'West', 'West', 'West', 'West', 'West', 'West', 'West', 'West', 'West', 'West', 'West', 'West', 'West', 'West', 'West', 'West', 'West', 'West', 'West', 'West', 'West', 'West', 'West', 'West', 'West', 'West', 'North', 'North', 'North', 'North', 'North', 'North', 'North', 'North', 'North', 'North', 'North', 'North', 'North', 'North', 'North', 'North', 'North', 'North', 'North', 'North', 'North', 'North', 'North', 'North', 'North', 'North', 'North', 'North', 'North', 'North', 'North', 'North', 'North', 'North', 'North', 'North', 'North', 'North', 'East', 'East', 'East', 'East', 'East', 'East', 'East', 'East', 'East', 'East', 'East', 'East', 'East', 'East', 'South', 'South', 'South', 'South', 'South', 'South', 'South', 'South', 'South', 'South', 'South', 'South', 'South', 'South', 'South', 'South', 'South', 'South', 'South', 'South', 'South', 'South', 'South', 'South', 'South', 'South', 'South', 'South', 'West', 'West', 'West', 'West', 'West', 'West', 'West', 'West', 'West', 'West', 'West', 'West', 'West', 'West', 'West', 'West', 'West', 'West', 'West', 'West', 'West', 'West', 'West', 'West', 'West', 'West', 'West', 'West', 'Northeast', 'Northeast', 'Northeast', 'Northeast', 'Northeast', 'Northeast', 'Northeast', 'Northeast', 'Northeast', 'Northeast', 'Northeast', 'Northeast', 'Northeast', 'East', 'East', 'East', 'East', 'East', 'East', 'East', 'East', 'East', 'East', 'East', 'East', 'East', 'East', 'South', 'South', 'South', 'South', 'South', 'South', 'South', 'South', 'South', 'South', 'South', 'South', 'South', 'South', 'North', 'North', 'North', 'North', 'North', 'North', 'North', 'North', 'North', 'North', 'North', 'North', 'North', 'North', 'North', 'North', 'North', 'North', 'North', 'North', 'North', 'North', 'North', 'North', 'North', 'North', 'North', 'North', 'Northeast', 'Northeast', 'Northeast', 'Northeast', 'Northeast', 'Northeast', 'Northeast', 'Northeast', 'Northeast', 'Northeast', 'Northeast', 'Northeast', 'South', 'South', 'South', 'South', 'South', 'South', 'South', 'South', 'South', 'South', 'South', 'South', 'South', 'South', 'South', 'South', 'South', 'South', 'South', 'South', 'South', 'South', 'South', 'South', 'South', 'South', 'South', 'South', 'Northeast', 'Northeast', 'Northeast', 'Northeast', 'Northeast', 'Northeast', 'Northeast', 'Northeast', 'Northeast', 'Northeast', 'Northeast', 'Northeast', 'Northeast', 'Northeast', 'North', 'North', 'North', 'North', 'North', 'North', 'North', 'North', 'North', 'North', 'North', 'North', 'North', 'North', 'North', 'North', 'North', 'North', 'North', 'North', 'North', 'North', 'North', 'North', 'North', 'North', 'North', 'North', 'East', 'East', 'East', 'East', 'East', 'East', 'East', 'East', 'East', 'East', 'East', 'East', 'East', 'East']\n"
          ]
        }
      ]
    },
    {
      "cell_type": "code",
      "source": [
        "df.shape"
      ],
      "metadata": {
        "colab": {
          "base_uri": "https://localhost:8080/"
        },
        "id": "LUcgaFkivV2_",
        "outputId": "7e36efaa-95ee-453b-fc5c-74815196d14b"
      },
      "execution_count": null,
      "outputs": [
        {
          "output_type": "execute_result",
          "data": {
            "text/plain": [
              "(740, 8)"
            ]
          },
          "metadata": {},
          "execution_count": 12
        }
      ]
    },
    {
      "cell_type": "code",
      "source": [
        "# df.columns= [\"Region\",\"Date\",\"Frequency\",\n",
        "#                \"Estimated Unemployment Rate (%)\",\n",
        "#                \"Estimated Employed\",\n",
        "#                \"Estimated Labour Participation Rate\"]"
      ],
      "metadata": {
        "id": "TRpppVxXvAcG"
      },
      "execution_count": null,
      "outputs": []
    },
    {
      "cell_type": "code",
      "source": [
        "plt.style.use('seaborn-whitegrid')\n",
        "plt.figure(figsize=(12, 10))\n",
        "sns.heatmap(df.corr())\n",
        "plt.show()"
      ],
      "metadata": {
        "colab": {
          "base_uri": "https://localhost:8080/",
          "height": 920
        },
        "id": "cX0GzdNaw8YW",
        "outputId": "98826c78-fa64-48c1-ce18-46317ee4f177"
      },
      "execution_count": null,
      "outputs": [
        {
          "output_type": "stream",
          "name": "stderr",
          "text": [
            "<ipython-input-14-54270d55c025>:1: MatplotlibDeprecationWarning: The seaborn styles shipped by Matplotlib are deprecated since 3.6, as they no longer correspond to the styles shipped by seaborn. However, they will remain available as 'seaborn-v0_8-<style>'. Alternatively, directly use the seaborn API instead.\n",
            "  plt.style.use('seaborn-whitegrid')\n",
            "<ipython-input-14-54270d55c025>:3: FutureWarning: The default value of numeric_only in DataFrame.corr is deprecated. In a future version, it will default to False. Select only valid columns or specify the value of numeric_only to silence this warning.\n",
            "  sns.heatmap(df.corr())\n"
          ]
        },
        {
          "output_type": "display_data",
          "data": {
            "text/plain": [
              "<Figure size 1200x1000 with 2 Axes>"
            ],
            "image/png": "[encoded data removed]"
          },
          "metadata": {}
        }
      ]
    },
    {
      "cell_type": "code",
      "source": [
        "# df.columns= [\"Region\",\"Date\",\"Frequency\",\n",
        "#                \"Estimated Unemployment Rate (%)\",\n",
        "#                \"Estimated Employed\",\n",
        "#                \"Estimated Labour Participation Rate\"]\n",
        "plt.title(\"Indian Unemployment\")\n",
        "sns.histplot(x=\" Estimated Employed\", hue=\"Region\", data=df)\n",
        "plt.show()"
      ],
      "metadata": {
        "colab": {
          "base_uri": "https://localhost:8080/",
          "height": 465
        },
        "id": "6rUDu4Bpx02L",
        "outputId": "79ae0a4b-2bb5-4381-b55a-84ec64347467"
      },
      "execution_count": null,
      "outputs": [
        {
          "output_type": "display_data",
          "data": {
            "text/plain": [
              "<Figure size 640x480 with 1 Axes>"
            ],
            "image/png": "[encoded data removed]"
          },
          "metadata": {}
        }
      ]
    },
    {
      "cell_type": "code",
      "source": [
        "plt.figure(figsize=(12, 10))\n",
        "plt.title(\"Indian Unemployment\")\n",
        "sns.histplot(x=\" Estimated Unemployment Rate (%)\", hue=\"Region\", data=df)\n",
        "plt.show()"
      ],
      "metadata": {
        "colab": {
          "base_uri": "https://localhost:8080/",
          "height": 865
        },
        "id": "fPmEmU5uyEnf",
        "outputId": "db1f8909-c566-4724-e53d-ab2d2e118e3a"
      },
      "execution_count": null,
      "outputs": [
        {
          "output_type": "display_data",
          "data": {
            "text/plain": [
              "<Figure size 1200x1000 with 1 Axes>"
            ],
            "image/png": "[encoded data removed]"
          },
          "metadata": {}
        }
      ]
    },
    {
      "cell_type": "code",
      "source": [
        "unemploment = df[[\"States\", \"Region\", \" Estimated Unemployment Rate (%)\"]]\n",
        "figure = px.sunburst(unemploment, path=[\"Region\", \"States\"],\n",
        "                     values=\" Estimated Unemployment Rate (%)\",\n",
        "                     width=700, height=700, color_continuous_scale=\"RdY1Gn\",\n",
        "                     title=\"Unemployment Rate in India\")\n",
        "figure.show()"
      ],
      "metadata": {
        "colab": {
          "base_uri": "https://localhost:8080/"
        },
        "id": "ovAPt5pyy5gl",
        "outputId": "b3d353bb-29f7-4753-fbce-686d377a1b3d"
      },
      "execution_count": null,
      "outputs": [
        {
          "output_type": "display_data",
          "data": {
            "application/vnd.plotly.v1+json": {
              "data": [
                {
                  "branchvalues": "total",
                  "domain": {
                    "x": [
                      0,
                      1
                    ],
                    "y": [
                      0,
                      1
                    ]
                  },
                  "hovertemplate": "labels=%{label}<br> Estimated Unemployment Rate (%)=%{value}<br>parent=%{parent}<br>id=%{id}<extra></extra>",
                  "ids": [
                    "South/Andhra Pradesh",
                    "Northeast/Assam",
                    "East/Bihar",
                    "North/Chandigarh",
                    "West/Chhattisgarh",
                    "North/Delhi",
                    "West/Goa",
                    "West/Gujarat",
                    "North/Haryana",
                    "North/Himachal Pradesh",
                    "North/Jammu & Kashmir",
                    "East/Jharkhand",
                    "South/Karnataka",
                    "South/Kerala",
                    "West/Madhya Pradesh",
                    "West/Maharashtra",
                    "Northeast/Meghalaya",
                    "East/Odisha",
                    "South/Puducherry",
                    "North/Punjab",
                    "North/Rajasthan",
                    "Northeast/Sikkim",
                    "South/Tamil Nadu",
                    "South/Telangana",
                    "Northeast/Tripura",
                    "North/Uttar Pradesh",
                    "North/Uttarakhand",
                    "East/West Bengal",
                    "East",
                    "North",
                    "Northeast",
                    "South",
                    "West"
                  ],
                  "labels": [
                    "Andhra Pradesh",
                    "Assam",
                    "Bihar",
                    "Chandigarh",
                    "Chhattisgarh",
                    "Delhi",
                    "Goa",
                    "Gujarat",
                    "Haryana",
                    "Himachal Pradesh",
                    "Jammu & Kashmir",
                    "Jharkhand",
                    "Karnataka",
                    "Kerala",
                    "Madhya Pradesh",
                    "Maharashtra",
                    "Meghalaya",
                    "Odisha",
                    "Puducherry",
                    "Punjab",
                    "Rajasthan",
                    "Sikkim",
                    "Tamil Nadu",
                    "Telangana",
                    "Tripura",
                    "Uttar Pradesh",
                    "Uttarakhand",
                    "West Bengal",
                    "East",
                    "North",
                    "Northeast",
                    "South",
                    "West"
                  ],
                  "name": "",
                  "parents": [
                    "South",
                    "Northeast",
                    "East",
                    "North",
                    "West",
                    "North",
                    "West",
                    "West",
                    "North",
                    "North",
                    "North",
                    "East",
                    "South",
                    "South",
                    "West",
                    "West",
                    "Northeast",
                    "East",
                    "South",
                    "North",
                    "North",
                    "Northeast",
                    "South",
                    "South",
                    "Northeast",
                    "North",
                    "North",
                    "East",
                    "",
                    "",
                    "",
                    "",
                    ""
                  ],
                  "values": [
                    209.35999999999999,
                    167.13,
                    529.71,
                    191.9,
                    258.73,
                    461.87,
                    222.57999999999998,
                    186.59,
                    735.93,
                    519.13,
                    339.96,
                    576.38,
                    186.93,
                    283.46999999999997,
                    207.38,
                    211.61,
                    129.57,
                    158.42,
                    265.59000000000003,
                    336.87,
                    393.63,
                    123.24,
                    259.96,
                    216.66,
                    793.81,
                    351.44,
                    177.74,
                    227.49,
                    1492,
                    3508.47,
                    1213.75,
                    1421.97,
                    1086.89
                  ],
                  "type": "sunburst"
                }
              ],
              "layout": {
                "template": {
                  "data": {
                    "histogram2dcontour": [
                      {
                        "type": "histogram2dcontour",
                        "colorbar": {
                          "outlinewidth": 0,
                          "ticks": ""
                        },
                        "colorscale": [
                          [
                            0,
                            "#0d0887"
                          ],
                          [
                            0.1111111111111111,
                            "#46039f"
                          ],
                          [
                            0.2222222222222222,
                            "#7201a8"
                          ],
                          [
                            0.3333333333333333,
                            "#9c179e"
                          ],
                          [
                            0.4444444444444444,
                            "#bd3786"
                          ],
                          [
                            0.5555555555555556,
                            "#d8576b"
                          ],
                          [
                            0.6666666666666666,
                            "#ed7953"
                          ],
                          [
                            0.7777777777777778,
                            "#fb9f3a"
                          ],
                          [
                            0.8888888888888888,
                            "#fdca26"
                          ],
                          [
                            1,
                            "#f0f921"
                          ]
                        ]
                      }
                    ],
                    "choropleth": [
                      {
                        "type": "choropleth",
                        "colorbar": {
                          "outlinewidth": 0,
                          "ticks": ""
                        }
                      }
                    ],
                    "histogram2d": [
                      {
                        "type": "histogram2d",
                        "colorbar": {
                          "outlinewidth": 0,
                          "ticks": ""
                        },
                        "colorscale": [
                          [
                            0,
                            "#0d0887"
                          ],
                          [
                            0.1111111111111111,
                            "#46039f"
                          ],
                          [
                            0.2222222222222222,
                            "#7201a8"
                          ],
                          [
                            0.3333333333333333,
                            "#9c179e"
                          ],
                          [
                            0.4444444444444444,
                            "#bd3786"
                          ],
                          [
                            0.5555555555555556,
                            "#d8576b"
                          ],
                          [
                            0.6666666666666666,
                            "#ed7953"
                          ],
                          [
                            0.7777777777777778,
                            "#fb9f3a"
                          ],
                          [
                            0.8888888888888888,
                            "#fdca26"
                          ],
                          [
                            1,
                            "#f0f921"
                          ]
                        ]
                      }
                    ],
                    "heatmap": [
                      {
                        "type": "heatmap",
                        "colorbar": {
                          "outlinewidth": 0,
                          "ticks": ""
                        },
                        "colorscale": [
                          [
                            0,
                            "#0d0887"
                          ],
                          [
                            0.1111111111111111,
                            "#46039f"
                          ],
                          [
                            0.2222222222222222,
                            "#7201a8"
                          ],
                          [
                            0.3333333333333333,
                            "#9c179e"
                          ],
                          [
                            0.4444444444444444,
                            "#bd3786"
                          ],
                          [
                            0.5555555555555556,
                            "#d8576b"
                          ],
                          [
                            0.6666666666666666,
                            "#ed7953"
                          ],
                          [
                            0.7777777777777778,
                            "#fb9f3a"
                          ],
                          [
                            0.8888888888888888,
                            "#fdca26"
                          ],
                          [
                            1,
                            "#f0f921"
                          ]
                        ]
                      }
                    ],
                    "heatmapgl": [
                      {
                        "type": "heatmapgl",
                        "colorbar": {
                          "outlinewidth": 0,
                          "ticks": ""
                        },
                        "colorscale": [
                          [
                            0,
                            "#0d0887"
                          ],
                          [
                            0.1111111111111111,
                            "#46039f"
                          ],
                          [
                            0.2222222222222222,
                            "#7201a8"
                          ],
                          [
                            0.3333333333333333,
                            "#9c179e"
                          ],
                          [
                            0.4444444444444444,
                            "#bd3786"
                          ],
                          [
                            0.5555555555555556,
                            "#d8576b"
                          ],
                          [
                            0.6666666666666666,
                            "#ed7953"
                          ],
                          [
                            0.7777777777777778,
                            "#fb9f3a"
                          ],
                          [
                            0.8888888888888888,
                            "#fdca26"
                          ],
                          [
                            1,
                            "#f0f921"
                          ]
                        ]
                      }
                    ],
                    "contourcarpet": [
                      {
                        "type": "contourcarpet",
                        "colorbar": {
                          "outlinewidth": 0,
                          "ticks": ""
                        }
                      }
                    ],
                    "contour": [
                      {
                        "type": "contour",
                        "colorbar": {
                          "outlinewidth": 0,
                          "ticks": ""
                        },
                        "colorscale": [
                          [
                            0,
                            "#0d0887"
                          ],
                          [
                            0.1111111111111111,
                            "#46039f"
                          ],
                          [
                            0.2222222222222222,
                            "#7201a8"
                          ],
                          [
                            0.3333333333333333,
                            "#9c179e"
                          ],
                          [
                            0.4444444444444444,
                            "#bd3786"
                          ],
                          [
                            0.5555555555555556,
                            "#d8576b"
                          ],
                          [
                            0.6666666666666666,
                            "#ed7953"
                          ],
                          [
                            0.7777777777777778,
                            "#fb9f3a"
                          ],
                          [
                            0.8888888888888888,
                            "#fdca26"
                          ],
                          [
                            1,
                            "#f0f921"
                          ]
                        ]
                      }
                    ],
                    "surface": [
                      {
                        "type": "surface",
                        "colorbar": {
                          "outlinewidth": 0,
                          "ticks": ""
                        },
                        "colorscale": [
                          [
                            0,
                            "#0d0887"
                          ],
                          [
                            0.1111111111111111,
                            "#46039f"
                          ],
                          [
                            0.2222222222222222,
                            "#7201a8"
                          ],
                          [
                            0.3333333333333333,
                            "#9c179e"
                          ],
                          [
                            0.4444444444444444,
                            "#bd3786"
                          ],
                          [
                            0.5555555555555556,
                            "#d8576b"
                          ],
                          [
                            0.6666666666666666,
                            "#ed7953"
                          ],
                          [
                            0.7777777777777778,
                            "#fb9f3a"
                          ],
                          [
                            0.8888888888888888,
                            "#fdca26"
                          ],
                          [
                            1,
                            "#f0f921"
                          ]
                        ]
                      }
                    ],
                    "mesh3d": [
                      {
                        "type": "mesh3d",
                        "colorbar": {
                          "outlinewidth": 0,
                          "ticks": ""
                        }
                      }
                    ],
                    "scatter": [
                      {
                        "fillpattern": {
                          "fillmode": "overlay",
                          "size": 10,
                          "solidity": 0.2
                        },
                        "type": "scatter"
                      }
                    ],
                    "parcoords": [
                      {
                        "type": "parcoords",
                        "line": {
                          "colorbar": {
                            "outlinewidth": 0,
                            "ticks": ""
                          }
                        }
                      }
                    ],
                    "scatterpolargl": [
                      {
                        "type": "scatterpolargl",
                        "marker": {
                          "colorbar": {
                            "outlinewidth": 0,
                            "ticks": ""
                          }
                        }
                      }
                    ],
                    "bar": [
                      {
                        "error_x": {
                          "color": "#2a3f5f"
                        },
                        "error_y": {
                          "color": "#2a3f5f"
                        },
                        "marker": {
                          "line": {
                            "color": "#E5ECF6",
                            "width": 0.5
                          },
                          "pattern": {
                            "fillmode": "overlay",
                            "size": 10,
                            "solidity": 0.2
                          }
                        },
                        "type": "bar"
                      }
                    ],
                    "scattergeo": [
                      {
                        "type": "scattergeo",
                        "marker": {
                          "colorbar": {
                            "outlinewidth": 0,
                            "ticks": ""
                          }
                        }
                      }
                    ],
                    "scatterpolar": [
                      {
                        "type": "scatterpolar",
                        "marker": {
                          "colorbar": {
                            "outlinewidth": 0,
                            "ticks": ""
                          }
                        }
                      }
                    ],
                    "histogram": [
                      {
                        "marker": {
                          "pattern": {
                            "fillmode": "overlay",
                            "size": 10,
                            "solidity": 0.2
                          }
                        },
                        "type": "histogram"
                      }
                    ],
                    "scattergl": [
                      {
                        "type": "scattergl",
                        "marker": {
                          "colorbar": {
                            "outlinewidth": 0,
                            "ticks": ""
                          }
                        }
                      }
                    ],
                    "scatter3d": [
                      {
                        "type": "scatter3d",
                        "line": {
                          "colorbar": {
                            "outlinewidth": 0,
                            "ticks": ""
                          }
                        },
                        "marker": {
                          "colorbar": {
                            "outlinewidth": 0,
                            "ticks": ""
                          }
                        }
                      }
                    ],
                    "scattermapbox": [
                      {
                        "type": "scattermapbox",
                        "marker": {
                          "colorbar": {
                            "outlinewidth": 0,
                            "ticks": ""
                          }
                        }
                      }
                    ],
                    "scatterternary": [
                      {
                        "type": "scatterternary",
                        "marker": {
                          "colorbar": {
                            "outlinewidth": 0,
                            "ticks": ""
                          }
                        }
                      }
                    ],
                    "scattercarpet": [
                      {
                        "type": "scattercarpet",
                        "marker": {
                          "colorbar": {
                            "outlinewidth": 0,
                            "ticks": ""
                          }
                        }
                      }
                    ],
                    "carpet": [
                      {
                        "aaxis": {
                          "endlinecolor": "#2a3f5f",
                          "gridcolor": "white",
                          "linecolor": "white",
                          "minorgridcolor": "white",
                          "startlinecolor": "#2a3f5f"
                        },
                        "baxis": {
                          "endlinecolor": "#2a3f5f",
                          "gridcolor": "white",
                          "linecolor": "white",
                          "minorgridcolor": "white",
                          "startlinecolor": "#2a3f5f"
                        },
                        "type": "carpet"
                      }
                    ],
                    "table": [
                      {
                        "cells": {
                          "fill": {
                            "color": "#EBF0F8"
                          },
                          "line": {
                            "color": "white"
                          }
                        },
                        "header": {
                          "fill": {
                            "color": "#C8D4E3"
                          },
                          "line": {
                            "color": "white"
                          }
                        },
                        "type": "table"
                      }
                    ],
                    "barpolar": [
                      {
                        "marker": {
                          "line": {
                            "color": "#E5ECF6",
                            "width": 0.5
                          },
                          "pattern": {
                            "fillmode": "overlay",
                            "size": 10,
                            "solidity": 0.2
                          }
                        },
                        "type": "barpolar"
                      }
                    ],
                    "pie": [
                      {
                        "automargin": true,
                        "type": "pie"
                      }
                    ]
                  },
                  "layout": {
                    "autotypenumbers": "strict",
                    "colorway": [
                      "#636efa",
                      "#EF553B",
                      "#00cc96",
                      "#ab63fa",
                      "#FFA15A",
                      "#19d3f3",
                      "#FF6692",
                      "#B6E880",
                      "#FF97FF",
                      "#FECB52"
                    ],
                    "font": {
                      "color": "#2a3f5f"
                    },
                    "hovermode": "closest",
                    "hoverlabel": {
                      "align": "left"
                    },
                    "paper_bgcolor": "white",
                    "plot_bgcolor": "#E5ECF6",
                    "polar": {
                      "bgcolor": "#E5ECF6",
                      "angularaxis": {
                        "gridcolor": "white",
                        "linecolor": "white",
                        "ticks": ""
                      },
                      "radialaxis": {
                        "gridcolor": "white",
                        "linecolor": "white",
                        "ticks": ""
                      }
                    },
                    "ternary": {
                      "bgcolor": "#E5ECF6",
                      "aaxis": {
                        "gridcolor": "white",
                        "linecolor": "white",
                        "ticks": ""
                      },
                      "baxis": {
                        "gridcolor": "white",
                        "linecolor": "white",
                        "ticks": ""
                      },
                      "caxis": {
                        "gridcolor": "white",
                        "linecolor": "white",
                        "ticks": ""
                      }
                    },
                    "coloraxis": {
                      "colorbar": {
                        "outlinewidth": 0,
                        "ticks": ""
                      }
                    },
                    "colorscale": {
                      "sequential": [
                        [
                          0,
                          "#0d0887"
                        ],
                        [
                          0.1111111111111111,
                          "#46039f"
                        ],
                        [
                          0.2222222222222222,
                          "#7201a8"
                        ],
                        [
                          0.3333333333333333,
                          "#9c179e"
                        ],
                        [
                          0.4444444444444444,
                          "#bd3786"
                        ],
                        [
                          0.5555555555555556,
                          "#d8576b"
                        ],
                        [
                          0.6666666666666666,
                          "#ed7953"
                        ],
                        [
                          0.7777777777777778,
                          "#fb9f3a"
                        ],
                        [
                          0.8888888888888888,
                          "#fdca26"
                        ],
                        [
                          1,
                          "#f0f921"
                        ]
                      ],
                      "sequentialminus": [
                        [
                          0,
                          "#0d0887"
                        ],
                        [
                          0.1111111111111111,
                          "#46039f"
                        ],
                        [
                          0.2222222222222222,
                          "#7201a8"
                        ],
                        [
                          0.3333333333333333,
                          "#9c179e"
                        ],
                        [
                          0.4444444444444444,
                          "#bd3786"
                        ],
                        [
                          0.5555555555555556,
                          "#d8576b"
                        ],
                        [
                          0.6666666666666666,
                          "#ed7953"
                        ],
                        [
                          0.7777777777777778,
                          "#fb9f3a"
                        ],
                        [
                          0.8888888888888888,
                          "#fdca26"
                        ],
                        [
                          1,
                          "#f0f921"
                        ]
                      ],
                      "diverging": [
                        [
                          0,
                          "#8e0152"
                        ],
                        [
                          0.1,
                          "#c51b7d"
                        ],
                        [
                          0.2,
                          "#de77ae"
                        ],
                        [
                          0.3,
                          "#f1b6da"
                        ],
                        [
                          0.4,
                          "#fde0ef"
                        ],
                        [
                          0.5,
                          "#f7f7f7"
                        ],
                        [
                          0.6,
                          "#e6f5d0"
                        ],
                        [
                          0.7,
                          "#b8e186"
                        ],
                        [
                          0.8,
                          "#7fbc41"
                        ],
                        [
                          0.9,
                          "#4d9221"
                        ],
                        [
                          1,
                          "#276419"
                        ]
                      ]
                    },
                    "xaxis": {
                      "gridcolor": "white",
                      "linecolor": "white",
                      "ticks": "",
                      "title": {
                        "standoff": 15
                      },
                      "zerolinecolor": "white",
                      "automargin": true,
                      "zerolinewidth": 2
                    },
                    "yaxis": {
                      "gridcolor": "white",
                      "linecolor": "white",
                      "ticks": "",
                      "title": {
                        "standoff": 15
                      },
                      "zerolinecolor": "white",
                      "automargin": true,
                      "zerolinewidth": 2
                    },
                    "scene": {
                      "xaxis": {
                        "backgroundcolor": "#E5ECF6",
                        "gridcolor": "white",
                        "linecolor": "white",
                        "showbackground": true,
                        "ticks": "",
                        "zerolinecolor": "white",
                        "gridwidth": 2
                      },
                      "yaxis": {
                        "backgroundcolor": "#E5ECF6",
                        "gridcolor": "white",
                        "linecolor": "white",
                        "showbackground": true,
                        "ticks": "",
                        "zerolinecolor": "white",
                        "gridwidth": 2
                      },
                      "zaxis": {
                        "backgroundcolor": "#E5ECF6",
                        "gridcolor": "white",
                        "linecolor": "white",
                        "showbackground": true,
                        "ticks": "",
                        "zerolinecolor": "white",
                        "gridwidth": 2
                      }
                    },
                    "shapedefaults": {
                      "line": {
                        "color": "#2a3f5f"
                      }
                    },
                    "annotationdefaults": {
                      "arrowcolor": "#2a3f5f",
                      "arrowhead": 0,
                      "arrowwidth": 1
                    },
                    "geo": {
                      "bgcolor": "white",
                      "landcolor": "#E5ECF6",
                      "subunitcolor": "white",
                      "showland": true,
                      "showlakes": true,
                      "lakecolor": "white"
                    },
                    "title": {
                      "x": 0.05
                    },
                    "mapbox": {
                      "style": "light"
                    }
                  }
                },
                "legend": {
                  "tracegroupgap": 0
                },
                "title": {
                  "text": "Unemployment Rate in India"
                },
                "height": 700,
                "width": 700
              },
              "config": {
                "plotlyServerURL": "https://plot.ly"
              }
            },
            "text/html": [
              "<div>                            <div id=\"9952fe84-a9fb-43c1-9e1d-41113ce350bf\" class=\"plotly-graph-div\" style=\"height:700px; width:700px;\"></div>            <script type=\"text/javascript\">                require([\"plotly\"], function(Plotly) {                    window.PLOTLYENV=window.PLOTLYENV || {};                                    if (document.getElementById(\"9952fe84-a9fb-43c1-9e1d-41113ce350bf\")) {                    Plotly.newPlot(                        \"9952fe84-a9fb-43c1-9e1d-41113ce350bf\",                        [{\"branchvalues\":\"total\",\"domain\":{\"x\":[0.0,1.0],\"y\":[0.0,1.0]},\"hovertemplate\":\"labels=%{label}\\u003cbr\\u003e Estimated Unemployment Rate (%)=%{value}\\u003cbr\\u003eparent=%{parent}\\u003cbr\\u003eid=%{id}\\u003cextra\\u003e\\u003c\\u002fextra\\u003e\",\"ids\":[\"South\\u002fAndhra Pradesh\",\"Northeast\\u002fAssam\",\"East\\u002fBihar\",\"North\\u002fChandigarh\",\"West\\u002fChhattisgarh\",\"North\\u002fDelhi\",\"West\\u002fGoa\",\"West\\u002fGujarat\",\"North\\u002fHaryana\",\"North\\u002fHimachal Pradesh\",\"North\\u002fJammu & Kashmir\",\"East\\u002fJharkhand\",\"South\\u002fKarnataka\",\"South\\u002fKerala\",\"West\\u002fMadhya Pradesh\",\"West\\u002fMaharashtra\",\"Northeast\\u002fMeghalaya\",\"East\\u002fOdisha\",\"South\\u002fPuducherry\",\"North\\u002fPunjab\",\"North\\u002fRajasthan\",\"Northeast\\u002fSikkim\",\"South\\u002fTamil Nadu\",\"South\\u002fTelangana\",\"Northeast\\u002fTripura\",\"North\\u002fUttar Pradesh\",\"North\\u002fUttarakhand\",\"East\\u002fWest Bengal\",\"East\",\"North\",\"Northeast\",\"South\",\"West\"],\"labels\":[\"Andhra Pradesh\",\"Assam\",\"Bihar\",\"Chandigarh\",\"Chhattisgarh\",\"Delhi\",\"Goa\",\"Gujarat\",\"Haryana\",\"Himachal Pradesh\",\"Jammu & Kashmir\",\"Jharkhand\",\"Karnataka\",\"Kerala\",\"Madhya Pradesh\",\"Maharashtra\",\"Meghalaya\",\"Odisha\",\"Puducherry\",\"Punjab\",\"Rajasthan\",\"Sikkim\",\"Tamil Nadu\",\"Telangana\",\"Tripura\",\"Uttar Pradesh\",\"Uttarakhand\",\"West Bengal\",\"East\",\"North\",\"Northeast\",\"South\",\"West\"],\"name\":\"\",\"parents\":[\"South\",\"Northeast\",\"East\",\"North\",\"West\",\"North\",\"West\",\"West\",\"North\",\"North\",\"North\",\"East\",\"South\",\"South\",\"West\",\"West\",\"Northeast\",\"East\",\"South\",\"North\",\"North\",\"Northeast\",\"South\",\"South\",\"Northeast\",\"North\",\"North\",\"East\",\"\",\"\",\"\",\"\",\"\"],\"values\":[209.35999999999999,167.13,529.71,191.9,258.73,461.87,222.57999999999998,186.59,735.93,519.13,339.96,576.38,186.93,283.46999999999997,207.38,211.61,129.57,158.42,265.59000000000003,336.87,393.63,123.24,259.96,216.66,793.81,351.44,177.74,227.49,1492.0,3508.47,1213.75,1421.97,1086.89],\"type\":\"sunburst\"}],                        {\"template\":{\"data\":{\"histogram2dcontour\":[{\"type\":\"histogram2dcontour\",\"colorbar\":{\"outlinewidth\":0,\"ticks\":\"\"},\"colorscale\":[[0.0,\"#0d0887\"],[0.1111111111111111,\"#46039f\"],[0.2222222222222222,\"#7201a8\"],[0.3333333333333333,\"#9c179e\"],[0.4444444444444444,\"#bd3786\"],[0.5555555555555556,\"#d8576b\"],[0.6666666666666666,\"#ed7953\"],[0.7777777777777778,\"#fb9f3a\"],[0.8888888888888888,\"#fdca26\"],[1.0,\"#f0f921\"]]}],\"choropleth\":[{\"type\":\"choropleth\",\"colorbar\":{\"outlinewidth\":0,\"ticks\":\"\"}}],\"histogram2d\":[{\"type\":\"histogram2d\",\"colorbar\":{\"outlinewidth\":0,\"ticks\":\"\"},\"colorscale\":[[0.0,\"#0d0887\"],[0.1111111111111111,\"#46039f\"],[0.2222222222222222,\"#7201a8\"],[0.3333333333333333,\"#9c179e\"],[0.4444444444444444,\"#bd3786\"],[0.5555555555555556,\"#d8576b\"],[0.6666666666666666,\"#ed7953\"],[0.7777777777777778,\"#fb9f3a\"],[0.8888888888888888,\"#fdca26\"],[1.0,\"#f0f921\"]]}],\"heatmap\":[{\"type\":\"heatmap\",\"colorbar\":{\"outlinewidth\":0,\"ticks\":\"\"},\"colorscale\":[[0.0,\"#0d0887\"],[0.1111111111111111,\"#46039f\"],[0.2222222222222222,\"#7201a8\"],[0.3333333333333333,\"#9c179e\"],[0.4444444444444444,\"#bd3786\"],[0.5555555555555556,\"#d8576b\"],[0.6666666666666666,\"#ed7953\"],[0.7777777777777778,\"#fb9f3a\"],[0.8888888888888888,\"#fdca26\"],[1.0,\"#f0f921\"]]}],\"heatmapgl\":[{\"type\":\"heatmapgl\",\"colorbar\":{\"outlinewidth\":0,\"ticks\":\"\"},\"colorscale\":[[0.0,\"#0d0887\"],[0.1111111111111111,\"#46039f\"],[0.2222222222222222,\"#7201a8\"],[0.3333333333333333,\"#9c179e\"],[0.4444444444444444,\"#bd3786\"],[0.5555555555555556,\"#d8576b\"],[0.6666666666666666,\"#ed7953\"],[0.7777777777777778,\"#fb9f3a\"],[0.8888888888888888,\"#fdca26\"],[1.0,\"#f0f921\"]]}],\"contourcarpet\":[{\"type\":\"contourcarpet\",\"colorbar\":{\"outlinewidth\":0,\"ticks\":\"\"}}],\"contour\":[{\"type\":\"contour\",\"colorbar\":{\"outlinewidth\":0,\"ticks\":\"\"},\"colorscale\":[[0.0,\"#0d0887\"],[0.1111111111111111,\"#46039f\"],[0.2222222222222222,\"#7201a8\"],[0.3333333333333333,\"#9c179e\"],[0.4444444444444444,\"#bd3786\"],[0.5555555555555556,\"#d8576b\"],[0.6666666666666666,\"#ed7953\"],[0.7777777777777778,\"#fb9f3a\"],[0.8888888888888888,\"#fdca26\"],[1.0,\"#f0f921\"]]}],\"surface\":[{\"type\":\"surface\",\"colorbar\":{\"outlinewidth\":0,\"ticks\":\"\"},\"colorscale\":[[0.0,\"#0d0887\"],[0.1111111111111111,\"#46039f\"],[0.2222222222222222,\"#7201a8\"],[0.3333333333333333,\"#9c179e\"],[0.4444444444444444,\"#bd3786\"],[0.5555555555555556,\"#d8576b\"],[0.6666666666666666,\"#ed7953\"],[0.7777777777777778,\"#fb9f3a\"],[0.8888888888888888,\"#fdca26\"],[1.0,\"#f0f921\"]]}],\"mesh3d\":[{\"type\":\"mesh3d\",\"colorbar\":{\"outlinewidth\":0,\"ticks\":\"\"}}],\"scatter\":[{\"fillpattern\":{\"fillmode\":\"overlay\",\"size\":10,\"solidity\":0.2},\"type\":\"scatter\"}],\"parcoords\":[{\"type\":\"parcoords\",\"line\":{\"colorbar\":{\"outlinewidth\":0,\"ticks\":\"\"}}}],\"scatterpolargl\":[{\"type\":\"scatterpolargl\",\"marker\":{\"colorbar\":{\"outlinewidth\":0,\"ticks\":\"\"}}}],\"bar\":[{\"error_x\":{\"color\":\"#2a3f5f\"},\"error_y\":{\"color\":\"#2a3f5f\"},\"marker\":{\"line\":{\"color\":\"#E5ECF6\",\"width\":0.5},\"pattern\":{\"fillmode\":\"overlay\",\"size\":10,\"solidity\":0.2}},\"type\":\"bar\"}],\"scattergeo\":[{\"type\":\"scattergeo\",\"marker\":{\"colorbar\":{\"outlinewidth\":0,\"ticks\":\"\"}}}],\"scatterpolar\":[{\"type\":\"scatterpolar\",\"marker\":{\"colorbar\":{\"outlinewidth\":0,\"ticks\":\"\"}}}],\"histogram\":[{\"marker\":{\"pattern\":{\"fillmode\":\"overlay\",\"size\":10,\"solidity\":0.2}},\"type\":\"histogram\"}],\"scattergl\":[{\"type\":\"scattergl\",\"marker\":{\"colorbar\":{\"outlinewidth\":0,\"ticks\":\"\"}}}],\"scatter3d\":[{\"type\":\"scatter3d\",\"line\":{\"colorbar\":{\"outlinewidth\":0,\"ticks\":\"\"}},\"marker\":{\"colorbar\":{\"outlinewidth\":0,\"ticks\":\"\"}}}],\"scattermapbox\":[{\"type\":\"scattermapbox\",\"marker\":{\"colorbar\":{\"outlinewidth\":0,\"ticks\":\"\"}}}],\"scatterternary\":[{\"type\":\"scatterternary\",\"marker\":{\"colorbar\":{\"outlinewidth\":0,\"ticks\":\"\"}}}],\"scattercarpet\":[{\"type\":\"scattercarpet\",\"marker\":{\"colorbar\":{\"outlinewidth\":0,\"ticks\":\"\"}}}],\"carpet\":[{\"aaxis\":{\"endlinecolor\":\"#2a3f5f\",\"gridcolor\":\"white\",\"linecolor\":\"white\",\"minorgridcolor\":\"white\",\"startlinecolor\":\"#2a3f5f\"},\"baxis\":{\"endlinecolor\":\"#2a3f5f\",\"gridcolor\":\"white\",\"linecolor\":\"white\",\"minorgridcolor\":\"white\",\"startlinecolor\":\"#2a3f5f\"},\"type\":\"carpet\"}],\"table\":[{\"cells\":{\"fill\":{\"color\":\"#EBF0F8\"},\"line\":{\"color\":\"white\"}},\"header\":{\"fill\":{\"color\":\"#C8D4E3\"},\"line\":{\"color\":\"white\"}},\"type\":\"table\"}],\"barpolar\":[{\"marker\":{\"line\":{\"color\":\"#E5ECF6\",\"width\":0.5},\"pattern\":{\"fillmode\":\"overlay\",\"size\":10,\"solidity\":0.2}},\"type\":\"barpolar\"}],\"pie\":[{\"automargin\":true,\"type\":\"pie\"}]},\"layout\":{\"autotypenumbers\":\"strict\",\"colorway\":[\"#636efa\",\"#EF553B\",\"#00cc96\",\"#ab63fa\",\"#FFA15A\",\"#19d3f3\",\"#FF6692\",\"#B6E880\",\"#FF97FF\",\"#FECB52\"],\"font\":{\"color\":\"#2a3f5f\"},\"hovermode\":\"closest\",\"hoverlabel\":{\"align\":\"left\"},\"paper_bgcolor\":\"white\",\"plot_bgcolor\":\"#E5ECF6\",\"polar\":{\"bgcolor\":\"#E5ECF6\",\"angularaxis\":{\"gridcolor\":\"white\",\"linecolor\":\"white\",\"ticks\":\"\"},\"radialaxis\":{\"gridcolor\":\"white\",\"linecolor\":\"white\",\"ticks\":\"\"}},\"ternary\":{\"bgcolor\":\"#E5ECF6\",\"aaxis\":{\"gridcolor\":\"white\",\"linecolor\":\"white\",\"ticks\":\"\"},\"baxis\":{\"gridcolor\":\"white\",\"linecolor\":\"white\",\"ticks\":\"\"},\"caxis\":{\"gridcolor\":\"white\",\"linecolor\":\"white\",\"ticks\":\"\"}},\"coloraxis\":{\"colorbar\":{\"outlinewidth\":0,\"ticks\":\"\"}},\"colorscale\":{\"sequential\":[[0.0,\"#0d0887\"],[0.1111111111111111,\"#46039f\"],[0.2222222222222222,\"#7201a8\"],[0.3333333333333333,\"#9c179e\"],[0.4444444444444444,\"#bd3786\"],[0.5555555555555556,\"#d8576b\"],[0.6666666666666666,\"#ed7953\"],[0.7777777777777778,\"#fb9f3a\"],[0.8888888888888888,\"#fdca26\"],[1.0,\"#f0f921\"]],\"sequentialminus\":[[0.0,\"#0d0887\"],[0.1111111111111111,\"#46039f\"],[0.2222222222222222,\"#7201a8\"],[0.3333333333333333,\"#9c179e\"],[0.4444444444444444,\"#bd3786\"],[0.5555555555555556,\"#d8576b\"],[0.6666666666666666,\"#ed7953\"],[0.7777777777777778,\"#fb9f3a\"],[0.8888888888888888,\"#fdca26\"],[1.0,\"#f0f921\"]],\"diverging\":[[0,\"#8e0152\"],[0.1,\"#c51b7d\"],[0.2,\"#de77ae\"],[0.3,\"#f1b6da\"],[0.4,\"#fde0ef\"],[0.5,\"#f7f7f7\"],[0.6,\"#e6f5d0\"],[0.7,\"#b8e186\"],[0.8,\"#7fbc41\"],[0.9,\"#4d9221\"],[1,\"#276419\"]]},\"xaxis\":{\"gridcolor\":\"white\",\"linecolor\":\"white\",\"ticks\":\"\",\"title\":{\"standoff\":15},\"zerolinecolor\":\"white\",\"automargin\":true,\"zerolinewidth\":2},\"yaxis\":{\"gridcolor\":\"white\",\"linecolor\":\"white\",\"ticks\":\"\",\"title\":{\"standoff\":15},\"zerolinecolor\":\"white\",\"automargin\":true,\"zerolinewidth\":2},\"scene\":{\"xaxis\":{\"backgroundcolor\":\"#E5ECF6\",\"gridcolor\":\"white\",\"linecolor\":\"white\",\"showbackground\":true,\"ticks\":\"\",\"zerolinecolor\":\"white\",\"gridwidth\":2},\"yaxis\":{\"backgroundcolor\":\"#E5ECF6\",\"gridcolor\":\"white\",\"linecolor\":\"white\",\"showbackground\":true,\"ticks\":\"\",\"zerolinecolor\":\"white\",\"gridwidth\":2},\"zaxis\":{\"backgroundcolor\":\"#E5ECF6\",\"gridcolor\":\"white\",\"linecolor\":\"white\",\"showbackground\":true,\"ticks\":\"\",\"zerolinecolor\":\"white\",\"gridwidth\":2}},\"shapedefaults\":{\"line\":{\"color\":\"#2a3f5f\"}},\"annotationdefaults\":{\"arrowcolor\":\"#2a3f5f\",\"arrowhead\":0,\"arrowwidth\":1},\"geo\":{\"bgcolor\":\"white\",\"landcolor\":\"#E5ECF6\",\"subunitcolor\":\"white\",\"showland\":true,\"showlakes\":true,\"lakecolor\":\"white\"},\"title\":{\"x\":0.05},\"mapbox\":{\"style\":\"light\"}}},\"legend\":{\"tracegroupgap\":0},\"title\":{\"text\":\"Unemployment Rate in India\"},\"height\":700,\"width\":700},                        {\"responsive\": true}                    ).then(function(){\n",
              "                            \n",
              "var gd = document.getElementById('9952fe84-a9fb-43c1-9e1d-41113ce350bf');\n",
              "var x = new MutationObserver(function (mutations, observer) {{\n",
              "        var display = window.getComputedStyle(gd).display;\n",
              "        if (!display || display === 'none') {{\n",
              "            console.log([gd, 'removed!']);\n",
              "            Plotly.purge(gd);\n",
              "            observer.disconnect();\n",
              "        }}\n",
              "}});\n",
              "\n",
              "// Listen for the removal of the full notebook cells\n",
              "var notebookContainer = gd.closest('#notebook-container');\n",
              "if (notebookContainer) {{\n",
              "    x.observe(notebookContainer, {childList: true});\n",
              "}}\n",
              "\n",
              "// Listen for the clearing of the current output cell\n",
              "var outputEl = gd.closest('.output');\n",
              "if (outputEl) {{\n",
              "    x.observe(outputEl, {childList: true});\n",
              "}}\n",
              "\n",
              "                        })                };                });            </script>        </div>"
            ]
          },
          "metadata": {}
        }
      ]
    }
  ]
}